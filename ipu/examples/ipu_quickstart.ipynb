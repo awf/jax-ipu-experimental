{
 "cells": [
  {
   "cell_type": "markdown",
   "metadata": {},
   "source": [
    "# Quickstart: running Jax on IPU"
   ]
  },
  {
   "cell_type": "code",
   "execution_count": 1,
   "metadata": {},
   "outputs": [],
   "source": [
    "from jax.config import config\n",
    "# Using IPU model emulator. Comment to use IPU hardware.\n",
    "config.FLAGS.jax_ipu_use_model = True\n",
    "config.FLAGS.jax_ipu_model_num_tiles = 8"
   ]
  },
  {
   "cell_type": "markdown",
   "metadata": {},
   "source": [
    "* Jax will automatically select `ipu` as default backend, the order is ipu > tpu > gpu > cpu."
   ]
  },
  {
   "cell_type": "code",
   "execution_count": 2,
   "metadata": {},
   "outputs": [
    {
     "name": "stdout",
     "output_type": "stream",
     "text": [
      "Platform=ipu\n",
      "Number ipus=1\n",
      "[IpuDevice(id=0, tiles=8)]\n"
     ]
    },
    {
     "name": "stderr",
     "output_type": "stream",
     "text": [
      "2023-01-31 15:10:39.660557: W external/org_tensorflow/tensorflow/compiler/plugin/poplar/driver/poplar_executor.cc:1782] A version was not supplied when using the IPU Model. Defaulting to 'ipu2'.\n"
     ]
    }
   ],
   "source": [
    "import jax\n",
    "\n",
    "print(f\"Platform={jax.default_backend()}\")\n",
    "print(f\"Number ipus={jax.device_count()}\")\n",
    "devices = jax.devices()\n",
    "print(devices)"
   ]
  },
  {
   "cell_type": "markdown",
   "metadata": {},
   "source": [
    "* A demo to run a simple jit function on single IPU"
   ]
  },
  {
   "cell_type": "code",
   "execution_count": 3,
   "metadata": {},
   "outputs": [
    {
     "name": "stdout",
     "output_type": "stream",
     "text": [
      "Result = [[ 1.486894    2.635103   -4.4571934 ]\n",
      " [ 0.14053345 -1.1268771   0.8805641 ]\n",
      " [-1.3035688  -1.5401895  -1.3022151 ]]\n",
      "Platform = ipu\n",
      "Device = ipu:0\n"
     ]
    }
   ],
   "source": [
    "import numpy as np\n",
    "from jax import jit\n",
    "import jax.numpy as jnp\n",
    "\n",
    "@jit\n",
    "def func(x, w, b):\n",
    "    return jnp.matmul(w, x) + b\n",
    "\n",
    "x = np.random.normal(size=[2, 3])\n",
    "w = np.random.normal(size=[3, 2])\n",
    "b = np.random.normal(size=[3, 3])\n",
    "\n",
    "r = func(x, w, b)\n",
    "print(f\"Result = {r}\")\n",
    "print(f\"Platform = {r.platform()}\")\n",
    "print(f\"Device = {r.device()}\")"
   ]
  },
  {
   "cell_type": "markdown",
   "metadata": {},
   "source": [
    "* With `jax.device_put` API, we can put variables to certain device. Here is an example to run jit function on `ipu:1`:"
   ]
  },
  {
   "cell_type": "code",
   "execution_count": 4,
   "metadata": {},
   "outputs": [
    {
     "name": "stdout",
     "output_type": "stream",
     "text": [
      "Result = [[ 1.486894    2.635103   -4.4571934 ]\n",
      " [ 0.14053345 -1.1268771   0.8805641 ]\n",
      " [-1.3035688  -1.5401895  -1.3022151 ]]\n",
      "Platform = ipu\n",
      "Device = ipu:0\n"
     ]
    }
   ],
   "source": [
    "x = jax.device_put(x, devices[0])\n",
    "w = jax.device_put(w, devices[0])\n",
    "b = jax.device_put(b, devices[0])\n",
    "\n",
    "r = func(x, w, b)\n",
    "\n",
    "print(f\"Result = {r}\")\n",
    "print(f\"Platform = {r.platform()}\")\n",
    "print(f\"Device = {r.device()}\")"
   ]
  },
  {
   "cell_type": "markdown",
   "metadata": {},
   "source": [
    "* `jit` also support to config which backend the function will be running on, for example, below function will be running on `cpu` platform:"
   ]
  },
  {
   "cell_type": "code",
   "execution_count": 5,
   "metadata": {},
   "outputs": [
    {
     "name": "stdout",
     "output_type": "stream",
     "text": [
      "Result = [[ 1.4868938   2.635103   -4.4571934 ]\n",
      " [ 0.14053339 -1.1268772   0.8805641 ]\n",
      " [-1.3035688  -1.5401895  -1.3022151 ]]\n",
      "Platform = cpu\n",
      "Device = TFRT_CPU_0\n"
     ]
    }
   ],
   "source": [
    "from functools import partial\n",
    "\n",
    "@partial(jit, backend='cpu')\n",
    "def func(x, w, b):\n",
    "    return jnp.matmul(w, x) + b\n",
    "\n",
    "r = func(x, w, b)\n",
    "print(f\"Result = {r}\")\n",
    "print(f\"Platform = {r.platform()}\")\n",
    "print(f\"Device = {r.device()}\")"
   ]
  },
  {
   "cell_type": "code",
   "execution_count": null,
   "metadata": {},
   "outputs": [],
   "source": []
  }
 ],
 "metadata": {
  "kernelspec": {
   "display_name": "Python 3 (ipykernel)",
   "language": "python",
   "name": "python3"
  },
  "language_info": {
   "codemirror_mode": {
    "name": "ipython",
    "version": 3
   },
   "file_extension": ".py",
   "mimetype": "text/x-python",
   "name": "python",
   "nbconvert_exporter": "python",
   "pygments_lexer": "ipython3",
   "version": "3.8.10"
  },
  "vscode": {
   "interpreter": {
    "hash": "f152e18c2f3ad9f3fb65af9cd1c283092e7917e7680b23eef30b2e3db00ca13b"
   }
  }
 },
 "nbformat": 4,
 "nbformat_minor": 2
}
