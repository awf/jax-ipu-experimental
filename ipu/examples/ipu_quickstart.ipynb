{
    "cells": [
        {
            "cell_type": "markdown",
            "metadata": {},
            "source": [
                "# Quickstart: running Jax on IPU"
            ]
        },
        {
            "cell_type": "markdown",
            "metadata": {},
            "source": [
                "* Set `XLA_IPU_PLATFORM_DEVICE_COUNT=N` to attach N IPU devices for a program. Only 1 IPU device will be attached for a program by default.\n",
                "* Set `TF_POPLAR_FLAGS='--use_ipu_model'` to run on ipu_model if you don't have an IPU. ipu_model is an IPU emulator running on the CPU. Max IPU device number is 2 when running on ipu_model."
            ]
        },
        {
            "cell_type": "code",
            "execution_count": 1,
            "metadata": {},
            "outputs": [],
            "source": [
                "import os\n",
                "\n",
                "os.environ['TF_POPLAR_FLAGS'] = '--use_ipu_model'\n",
                "os.environ['XLA_IPU_PLATFORM_DEVICE_COUNT'] = '2'"
            ]
        },
        {
            "cell_type": "markdown",
            "metadata": {},
            "source": [
                "* Jax will automatically select `ipu` as default backend, the order is ipu > tpu > gpu > cpu."
            ]
        },
        {
            "cell_type": "code",
            "execution_count": 2,
            "metadata": {},
            "outputs": [
                {
                    "name": "stdout",
                    "output_type": "stream",
                    "text": [
                        "Platform=ipu\n",
                        "Number ipus=2\n",
                        "[IpuDevice(id=0), IpuDevice(id=1)]\n"
                    ]
                }
            ],
            "source": [
                "import jax\n",
                "\n",
                "print(f\"Platform={jax.default_backend()}\")\n",
                "print(f\"Number ipus={jax.device_count()}\")\n",
                "devices = jax.devices()\n",
                "print(devices)"
            ]
        },
        {
            "cell_type": "markdown",
            "metadata": {},
            "source": [
                "* A demo to run a simple jit function on single IPU"
            ]
        },
        {
            "cell_type": "code",
            "execution_count": 3,
            "metadata": {},
            "outputs": [
                {
                    "name": "stdout",
                    "output_type": "stream",
                    "text": [
                        "Result = [[ 1.0280436  -0.526331   -0.9054605 ]\n",
                        " [-1.9880531  -0.03559947  1.6808541 ]\n",
                        " [-0.85754204 -1.2670149  -0.6839774 ]]\n",
                        "Platform = ipu\n",
                        "Device = ipu:0\n"
                    ]
                }
            ],
            "source": [
                "import numpy as np\n",
                "from jax import jit\n",
                "import jax.numpy as jnp\n",
                "\n",
                "@jit\n",
                "def func(x, w, b):\n",
                "  return jnp.matmul(w, x) + b\n",
                "\n",
                "x = np.random.normal(size=[2, 3])\n",
                "w = np.random.normal(size=[3, 2])\n",
                "b = np.random.normal(size=[3, 3])\n",
                "\n",
                "r = func(x, w, b)\n",
                "print(f\"Result = {r}\")\n",
                "print(f\"Platform = {r.platform()}\")\n",
                "print(f\"Device = {r.device()}\")"
            ]
        },
        {
            "cell_type": "markdown",
            "metadata": {},
            "source": [
                "* With `jax.device_put` API, we can put variables to certain device. Here is an example to run jit function on `ipu:1`:"
            ]
        },
        {
            "cell_type": "code",
            "execution_count": 4,
            "metadata": {},
            "outputs": [
                {
                    "name": "stdout",
                    "output_type": "stream",
                    "text": [
                        "Result = [[ 1.0280436  -0.526331   -0.9054605 ]\n",
                        " [-1.9880531  -0.03559947  1.6808541 ]\n",
                        " [-0.85754204 -1.2670149  -0.6839774 ]]\n",
                        "Platform = ipu\n",
                        "Device = ipu:1\n"
                    ]
                }
            ],
            "source": [
                "x = jax.device_put(x, devices[1])\n",
                "w = jax.device_put(w, devices[1])\n",
                "b = jax.device_put(b, devices[1])\n",
                "\n",
                "r = func(x, w, b)\n",
                "\n",
                "print(f\"Result = {r}\")\n",
                "print(f\"Platform = {r.platform()}\")\n",
                "print(f\"Device = {r.device()}\")"
            ]
        },
        {
            "cell_type": "markdown",
            "metadata": {},
            "source": [
                "* `jit` also support to config which backend the function will be running on, for example, below function will be running on `cpu` platform:"
            ]
        },
        {
            "cell_type": "code",
            "execution_count": 6,
            "metadata": {},
            "outputs": [
                {
                    "name": "stdout",
                    "output_type": "stream",
                    "text": [
                        "Result = [[ 1.0280436  -0.526331   -0.9054605 ]\n",
                        " [-1.9880531  -0.03559947  1.6808541 ]\n",
                        " [-0.85754204 -1.2670149  -0.6839774 ]]\n",
                        "Platform = cpu\n",
                        "Device = cpu:0\n"
                    ]
                }
            ],
            "source": [
                "@partial(jit, backend='cpu')\n",
                "def func(x, w, b):\n",
                "  return jnp.matmul(w, x) + b\n",
                "\n",
                "r = func(x, w, b)\n",
                "print(f\"Result = {r}\")\n",
                "print(f\"Platform = {r.platform()}\")\n",
                "print(f\"Device = {r.device()}\")"
            ]
        }
    ],
    "metadata": {
        "kernelspec": {
            "display_name": "Python 3.6.9 ('jax_env')",
            "language": "python",
            "name": "python3"
        },
        "language_info": {
            "codemirror_mode": {
                "name": "ipython",
                "version": 3
            },
            "file_extension": ".py",
            "mimetype": "text/x-python",
            "name": "python",
            "nbconvert_exporter": "python",
            "pygments_lexer": "ipython3",
            "version": "3.6.9"
        },
        "orig_nbformat": 4,
        "vscode": {
            "interpreter": {
                "hash": "f152e18c2f3ad9f3fb65af9cd1c283092e7917e7680b23eef30b2e3db00ca13b"
            }
        }
    },
    "nbformat": 4,
    "nbformat_minor": 2
}
